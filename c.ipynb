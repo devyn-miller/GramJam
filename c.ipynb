{
 "cells": [
  {
   "cell_type": "code",
   "execution_count": 1,
   "metadata": {},
   "outputs": [
    {
     "name": "stdout",
     "output_type": "stream",
     "text": [
      "All code has been combined into combined_code.txt\n"
     ]
    }
   ],
   "source": [
    "import os\n",
    "import sys\n",
    "\n",
    "def get_gitignore_exclusions(directory):\n",
    "    \"\"\"Reads the .gitignore file and returns a set of excluded file patterns.\"\"\"\n",
    "    excluded_files = {'.mypy_cache', 'venv', 'combined_code.txt'}\n",
    "    gitignore_path = os.path.join(directory, '.gitignore')\n",
    "    if os.path.isfile(gitignore_path):\n",
    "        with open(gitignore_path, 'r') as gitignore:\n",
    "            for line in gitignore:\n",
    "                line = line.strip()\n",
    "                if line and not line.startswith('#'):\n",
    "                    excluded_files.add(line)\n",
    "    return excluded_files\n",
    "\n",
    "def should_exclude_file(file_path, excluded_patterns, script_name):\n",
    "    \"\"\"Checks if a file matches any pattern in the excluded patterns or is the script itself.\"\"\"\n",
    "    if file_path.endswith(script_name):\n",
    "        return True\n",
    "    for pattern in excluded_patterns:\n",
    "        if file_path.endswith(pattern) or pattern in file_path:\n",
    "            return True\n",
    "    return False\n",
    "\n",
    "def filter_print_statements(line):\n",
    "    \"\"\"Filters out print statements or lines with error output.\"\"\"\n",
    "    return 'stdout' not in line and 'Could not read file' not in line\n",
    "\n",
    "def combine_code_from_directory(directory, output_file, additional_exclusions=None):\n",
    "    \"\"\"Combines code from a directory into a single file, excluding specified files.\n",
    "       Note: This function will overwrite the output file if it already exists.\"\"\"\n",
    "    \n",
    "    # Initialize exclusions with .gitignore contents and additional exclusions\n",
    "    excluded_files = get_gitignore_exclusions(directory)\n",
    "    if additional_exclusions:\n",
    "        excluded_files.update(additional_exclusions)\n",
    "    \n",
    "    # Get the script name itself to exclude it\n",
    "    script_name = os.path.basename(sys.argv[0])\n",
    "    excluded_files.add(script_name)\n",
    "\n",
    "    with open(output_file, 'w') as outfile:  # 'w' mode ensures the file is overwritten\n",
    "        for root, _, files in os.walk(directory):\n",
    "            for file in files:\n",
    "                file_path = os.path.join(root, file)\n",
    "                # Skip excluded files\n",
    "                if should_exclude_file(file_path, excluded_files, script_name):\n",
    "                    continue\n",
    "                try:\n",
    "                    with open(file_path, 'r') as infile:\n",
    "                        for line in infile:\n",
    "                            # Filter out print statements or error outputs\n",
    "                            if filter_print_statements(line):\n",
    "                                outfile.write(line)\n",
    "                        outfile.write(\"\\n\\n\")\n",
    "                except Exception as e:\n",
    "                    print(f\"Could not read file {file_path}: {e}\")\n",
    "\n",
    "if __name__ == \"__main__\":\n",
    "    # Prompt the user to enter the directory path\n",
    "    directory = input(\"Enter the directory path to combine code from: \")\n",
    "    \n",
    "    # Define the output file name\n",
    "    output_file = \"combined_code.txt\"\n",
    "    \n",
    "    # Additional files to exclude (besides .gitignore contents)\n",
    "    additional_exclusions = input(\"Enter any additional files to exclude (comma-separated): \").split(\",\")\n",
    "    additional_exclusions = [exclusion.strip() for exclusion in additional_exclusions if exclusion.strip()]\n",
    "\n",
    "    # Combine the code from the specified directory\n",
    "    combine_code_from_directory(directory, output_file, additional_exclusions)\n",
    "    \n",
    "    print(f\"All code has been combined into {output_file}\")"
   ]
  }
 ],
 "metadata": {
  "kernelspec": {
   "display_name": "cpsc_env",
   "language": "python",
   "name": "python3"
  },
  "language_info": {
   "codemirror_mode": {
    "name": "ipython",
    "version": 3
   },
   "file_extension": ".py",
   "mimetype": "text/x-python",
   "name": "python",
   "nbconvert_exporter": "python",
   "pygments_lexer": "ipython3",
   "version": "3.11.8"
  }
 },
 "nbformat": 4,
 "nbformat_minor": 2
}
